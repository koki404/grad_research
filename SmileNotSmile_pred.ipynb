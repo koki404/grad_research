{
 "cells": [
  {
   "cell_type": "code",
   "execution_count": 1,
   "metadata": {},
   "outputs": [
    {
     "name": "stderr",
     "output_type": "stream",
     "text": [
      "Using TensorFlow backend.\n"
     ]
    }
   ],
   "source": [
    "import os,glob\n",
    "from PIL import Image\n",
    "import numpy as np\n",
    "from keras.utils import to_categorical\n",
    "from keras.models import load_model\n",
    "\n",
    "import tensorflow as tf\n",
    "tf.compat.v1.logging.set_verbosity(tf.compat.v1.logging.ERROR)"
   ]
  },
  {
   "cell_type": "code",
   "execution_count": null,
   "metadata": {},
   "outputs": [],
   "source": [
    "img_size = 56\n",
    "work_dir = 'archive/lfw-deepfunneled/Smile_NotSmile'\n",
    "image_dir = work_dir+\"/original/unknown\"\n",
    "pred_dir = work_dir+\"/predicted\"\n",
    "results_base='Smile_NotSmile-results'\n",
    "model_file=\"Smile_NotSmile-model-size{0}.hd5\".format(img_size)\n",
    "classes=[\"Smile\",\"NotSmile\"]\n",
    "num_classes=len(classes)"
   ]
  },
  {
   "cell_type": "code",
   "execution_count": null,
   "metadata": {},
   "outputs": [],
   "source": [
    "model=load_model(model_file)"
   ]
  },
  {
   "cell_type": "code",
   "execution_count": null,
   "metadata": {},
   "outputs": [],
   "source": [
    "#結果保存用ファイルを開く\n",
    "results_file = '{0}-size{1}.csv'.format(results_base,img_size)\n",
    "res = open(results_file,'w')\n",
    "res.write(\"file,{0},{1}\\n\".format(classes[0],classes[1]))\n",
    "\n",
    "#出力用ディレクトリを空にする\n",
    "files=glob.glob(pred_dir+\"/*.*\")\n",
    "for f in files:\n",
    "    os.remove(f)\n",
    "\n",
    "#ファイルひとつずつに対して予測\n",
    "files=glob.glob(image_dir+\"/*.*\")\n",
    "for f in files:\n",
    "    #画像データの読み込み\n",
    "    img=Image.open(f)\n",
    "    img=img.convert(\"RGB\")\n",
    "    img=img.resize((img_size,img_size))\n",
    "    #4次元のnumpy配列にreshape\n",
    "    X=np.array(img).reshape(1,img_size,img_size,3).astype(\"float16\")\n",
    "    X_pred=X/255\n",
    "    #分類予測\n",
    "    pred=model.predict(X_pred)\n",
    "    #画像をpred_dirに出力\n",
    "    pred_ans=pred.argmax()\n",
    "    pred_cls=classes[pred_ans]\n",
    "    tag=\"pred_as_{0}-size{1}\".format(pred_cls,img_size)\n",
    "    base=os.path.basename(f)\n",
    "    img_file=\"{0}/{1}.{2}.jpg\".format(pred_dir,os.path.splitext(base)[0],tag)\n",
    "    img.save(img_file)\n",
    "    print(img_file,pred)\n",
    "    res.write(\"{0},{1},{2}\\n\".format(f,pred[0][0],pred[0][1]))\n",
    "\n",
    "#結果保存用ファイルを閉じる\n",
    "res.close()\n",
    "\n",
    "print(\"OK\")"
   ]
  }
 ],
 "metadata": {
  "kernelspec": {
   "display_name": "",
   "name": ""
  },
  "language_info": {
   "codemirror_mode": {
    "name": "ipython",
    "version": 3
   },
   "file_extension": ".py",
   "mimetype": "text/x-python",
   "name": "python",
   "nbconvert_exporter": "python",
   "pygments_lexer": "ipython3",
   "version": "3.6.9"
  }
 },
 "nbformat": 4,
 "nbformat_minor": 4
}
