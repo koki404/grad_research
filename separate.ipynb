{
 "cells": [
  {
   "cell_type": "code",
   "execution_count": 1,
   "metadata": {},
   "outputs": [],
   "source": [
    "import cv2\n",
    "import os\n",
    "import shutil\n",
    "import glob"
   ]
  },
  {
   "cell_type": "code",
   "execution_count": null,
   "metadata": {},
   "outputs": [],
   "source": [
    "link0='archive/lfw-deepfunneled/lfw-deepfunneled/**/*'\n",
    "link1='archive/lfw-deepfunneled/smile'\n",
    "link2='archive/lfw-deepfunneled/not_smile'\n",
    "link3='archive/lfw-deepfunneled/else'\n",
    "#data_list = os.listdir(link2)\n",
    "\n",
    "#for data in data_list:\n",
    "#    print(data)\n",
    "files = glob.glob(link0)\n",
    "for file in files:\n",
    "    img = cv2.imread(file)\n",
    "    if img is None:\n",
    "        print('through')\n",
    "    else:\n",
    "        cv2.imshow(\"image\", img)\n",
    "        key = cv2.waitKey()&0xff\n",
    "        \n",
    "        if key == 48:\n",
    "            shutil.move(file,link1) #smile 0\n",
    "        elif key == 49:\n",
    "            shutil.move(file,link2) #notsmile 1\n",
    "        elif key == 50:\n",
    "            shutil.move(file,link3) #glasses 2"
   ]
  },
  {
   "cell_type": "markdown",
   "metadata": {},
   "source": [
    "link0='archive/lfw-deepfunneled/lfw-deepfunneled/**/*'\n",
    "link1='archive/lfw-deepfunneled/smile'\n",
    "link2='archive/lfw-deepfunneled/not_smile'\n",
    "link3='archive/lfw-deepfunneled/else'\n",
    "#data_list = os.listdir(link2)\n",
    "\n",
    "#for data in data_list:\n",
    "#    print(data)\n",
    "files = glob.glob(link0)\n",
    "for file in files:\n",
    "    img = cv2.imread(file)\n",
    "    if img is None:\n",
    "        print('through')\n",
    "    else:\n",
    "        cv2.imshow(\"image\", img)\n",
    "        key = cv2.waitKey()&0xff\n",
    "        \n",
    "        if key == 48:\n",
    "            print('0')\n",
    "        elif key == 49:\n",
    "            print('1')\n",
    "        elif key == 50:\n",
    "            print('2')"
   ]
  },
  {
   "cell_type": "code",
   "execution_count": null,
   "metadata": {},
   "outputs": [],
   "source": [
    "#### link3='archive/lfw-deepfunneled/lfw-deepfunneled\\Aaron_Eckhart\\Aaron_Eckhart_0001.jpg'\n",
    "img = cv2.imread(link3)\n",
    "#img = cv2.resize(img,(IMG_SIZE,IMG_SIZE))\n",
    "#img = img/255.0\n",
    "#cv2.imshow('image',img)\n",
    "#key = cv2.waitKey()\n",
    "#if key == 48:\n",
    "#    shutil.move(link2,link0)\n",
    "#elif key == 49:\n",
    "#    shutil.move(link2,link1\n",
    "if img is None:\n",
    "    print('through')\n",
    "else:\n",
    "    cv2.imshow(\"image\", img)\n",
    "    key = cv2.waitKey()\n",
    "\n",
    "    if key == 48:\n",
    "        print('0')\n",
    "    elif key == 49:\n",
    "        print('1')\n",
    "    else:\n",
    "        print('pass', str(key))"
   ]
  },
  {
   "cell_type": "code",
   "execution_count": null,
   "metadata": {},
   "outputs": [],
   "source": [
    "# def load_lists(list_dir):\n",
    "#     classes = list_dir.read().split()\n",
    "#     list_dir.close()\n",
    "#     return classes\n",
    "\n",
    "#classes,///list\n",
    "IMG_SIZE=150\n",
    "link0='archive/lfw-deepfunneled/smile'\n",
    "link1='archive/lfw-deepfunneled/not_smile'\n",
    "link2='archive/lfw-deepfunneled/lfw-deepfunneled/**/*'\n",
    "data_list = glob.glob(link2)\n",
    "\n",
    "for data in data_list:\n",
    "    if(os.path.basename(data) == '.DS_Store'):\n",
    "            print('Escape')\n",
    "    else:\n",
    "        img = cv2.imread(data)\n",
    "        img = cv2.resize(img,(IMG_SIZE,IMG_SIZE))\n",
    "        img = img/255.0\n",
    "        cv2.imshow(data,img)\n",
    "        key = cv2.waitKey()\n",
    "        if key == 48:\n",
    "            shutil.move(link2,link0)\n",
    "        elif key == 49:\n",
    "            shutil.move(link2,link1)\n",
    "#        if cv2.waitKey(48):\n",
    "#            shutil.move(link2,link0)\n",
    "#            cv2.destroyAllwindows()\n",
    "#        elif cv2.waitKey(49):\n",
    "#            shutil.move(link2,link1)\n",
    "#            cv2.destroyAllwindows()"
   ]
  },
  {
   "cell_type": "code",
   "execution_count": 7,
   "metadata": {},
   "outputs": [],
   "source": [
    "link3='archive/lfw-deepfunneled/lfw-deepfunneled\\Aaron_Eckhart\\Aaron_Eckhart_0001.jpg'\n",
    "img = cv2.imread(link3)\n",
    "cv2.imshow('image',img)\n",
    "cv2.waitKey(0) \n",
    "cv2.destroyAllWindows()"
   ]
  },
  {
   "cell_type": "code",
   "execution_count": null,
   "metadata": {},
   "outputs": [],
   "source": []
  }
 ],
 "metadata": {
  "kernelspec": {
   "display_name": "Python 3",
   "language": "python",
   "name": "python3"
  },
  "language_info": {
   "codemirror_mode": {
    "name": "ipython",
    "version": 3
   },
   "file_extension": ".py",
   "mimetype": "text/x-python",
   "name": "python",
   "nbconvert_exporter": "python",
   "pygments_lexer": "ipython3",
   "version": "3.6.9"
  }
 },
 "nbformat": 4,
 "nbformat_minor": 4
}
