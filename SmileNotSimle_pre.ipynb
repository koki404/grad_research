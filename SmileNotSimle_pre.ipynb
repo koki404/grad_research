{
 "cells": [
  {
   "cell_type": "markdown",
   "metadata": {},
   "source": [
    "ライブラリのimport"
   ]
  },
  {
   "cell_type": "code",
   "execution_count": 2,
   "metadata": {},
   "outputs": [],
   "source": [
    "import os, glob\n",
    "import numpy as np\n",
    "from PIL import Image"
   ]
  },
  {
   "cell_type": "code",
   "execution_count": null,
   "metadata": {},
   "outputs": [],
   "source": [
    "img_size = 56 #画像の縦横サイズを揃える\n",
    "work_dir = 'archive/lfw-deepfunneled/Smile_NotSmile' #データファイルの置き場\n",
    "npy_data_base = 'Smile_NotSmile-data' #画像データをまとめたファイル名生成用\n",
    "npy_labels_base = 'Smile_NotSmile-labels' #教師データをまとめたファイル名生成用\n",
    "classes = ['Smile','NotSmile'] #分類対象のクラス名\n",
    "num_classes = len(classes) #分類クラス数"
   ]
  },
  {
   "cell_type": "markdown",
   "metadata": {},
   "source": [
    "画像の縦横サイズをresizeしてnumpy配列ファイル作成"
   ]
  },
  {
   "cell_type": "code",
   "execution_count": null,
   "metadata": {},
   "outputs": [],
   "source": [
    "%%time\n",
    "\n",
    "ok=1\n",
    "for mode in [\"train\", \"test\"]:\n",
    "    X=[]\n",
    "    y=[]\n",
    "    npy_data_file='{0}-{1}-size{2}.npy'.format(npy_data_base,mode,img_size)\n",
    "    npy_labels_file='{0}-{1}-size{2}.npy'.format(npy_labels_base,mode,img_size)\n",
    "    for i in range(0, num_classes):\n",
    "        cls=classes[i]\n",
    "        image_dir=work_dir+\"/original/\"+mode+\"/\"+cls\n",
    "        files=glob.glob(image_dir+\"/*.*\")\n",
    "        print(\"size:\",img_size,\"mode:\",mode,\"class:\",cls)\n",
    "        for f in files:\n",
    "            img=Image.open(f)\n",
    "            img=img.convert(\"RGB\")\n",
    "            img=img.resize((img_size,img_size))\n",
    "            data=np.array(img)\n",
    "            X.append(data)\n",
    "            y.append(i)\n",
    "    X=np.array(X)\n",
    "    y=np.array(y)\n",
    "    data_file=work_dir+\"/\"+npy_data_file\n",
    "    labels_file=work_dir+\"/\"+npy_labels_file\n",
    "    np.save(data_file,X)\n",
    "    np.save(labels_file,y)\n",
    "    \n",
    "    if not os.path.exists(data_file):\n",
    "        ok=0\n",
    "    if not os.path.exists(labels_file):\n",
    "        ok=0\n",
    "        \n",
    "if ok==1:\n",
    "    print(\"OK\")"
   ]
  }
 ],
 "metadata": {
  "kernelspec": {
   "display_name": "Python 3",
   "language": "python",
   "name": "python3"
  },
  "language_info": {
   "codemirror_mode": {
    "name": "ipython",
    "version": 3
   },
   "file_extension": ".py",
   "mimetype": "text/x-python",
   "name": "python",
   "nbconvert_exporter": "python",
   "pygments_lexer": "ipython3",
   "version": "3.6.9"
  }
 },
 "nbformat": 4,
 "nbformat_minor": 4
}
